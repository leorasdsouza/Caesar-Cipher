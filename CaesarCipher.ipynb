{
  "nbformat": 4,
  "nbformat_minor": 0,
  "metadata": {
    "colab": {
      "provenance": [],
      "authorship_tag": "ABX9TyPm17qTJ3j6HtFbq/zvaP/L",
      "include_colab_link": true
    },
    "kernelspec": {
      "name": "python3",
      "display_name": "Python 3"
    },
    "language_info": {
      "name": "python"
    }
  },
  "cells": [
    {
      "cell_type": "markdown",
      "metadata": {
        "id": "view-in-github",
        "colab_type": "text"
      },
      "source": [
        "<a href=\"https://colab.research.google.com/github/leorasdsouza/Caesar-Cipher/blob/main/CaesarCipher.ipynb\" target=\"_parent\"><img src=\"https://colab.research.google.com/assets/colab-badge.svg\" alt=\"Open In Colab\"/></a>"
      ]
    },
    {
      "cell_type": "code",
      "execution_count": 1,
      "metadata": {
        "colab": {
          "base_uri": "https://localhost:8080/"
        },
        "id": "hpvrNO2sPdes",
        "outputId": "7b763973-5dc9-4864-ac07-74f25f7d1e37"
      },
      "outputs": [
        {
          "output_type": "stream",
          "name": "stdout",
          "text": [
            "Enter text to encrypt: caesar cipher\n",
            "Enter key: 3\n",
            "Encrypted message: fdhvdu flskhu\n",
            "The decrypted message is: caesar cipher\n"
          ]
        }
      ],
      "source": [
        "def encrypt(text, k):\n",
        "    ciphertext = \"\"\n",
        "    for i in range(len(text)):\n",
        "        index = text[i]\n",
        "        if index.isupper():\n",
        "            ciphertext += chr((ord(index) + k - 65) % 26 + 65)\n",
        "        elif index.islower():\n",
        "            ciphertext += chr((ord(index) + k - 97) % 26 + 97)\n",
        "        else:\n",
        "            ciphertext += index\n",
        "    return ciphertext\n",
        "\n",
        "def decrypt(text, k):\n",
        "    original_text = \"\"\n",
        "    for i in range(len(text)):\n",
        "        index = text[i]\n",
        "        if index.isupper():\n",
        "            original_text += chr((ord(index) - k - 65) % 26 + 65)\n",
        "        elif index.islower():\n",
        "            original_text += chr((ord(index) - k - 97) % 26 + 97)\n",
        "        else:\n",
        "            original_text += index\n",
        "    return original_text\n",
        "\n",
        "text = input(\"Enter text to encrypt: \")\n",
        "k = int(input(\"Enter key: \"))\n",
        "encrypted_message = encrypt(text, k)\n",
        "print(\"Encrypted message:\", encrypted_message)\n",
        "#print(\"The decrypted message is:\")\n",
        "message = decrypt(encrypted_message, k)\n",
        "print(\"The decrypted message is:\", message)\n"
      ]
    }
  ]
}